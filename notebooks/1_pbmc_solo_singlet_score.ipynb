{
 "cells": [
  {
   "cell_type": "code",
   "execution_count": 1,
   "id": "aade3b73-936a-45f7-a10a-5ace522c0fb4",
   "metadata": {},
   "outputs": [
    {
     "name": "stderr",
     "output_type": "stream",
     "text": [
      "/media/MPEdge16/MM137/sc/py/lib/python3.9/site-packages/scvi/_settings.py:63: UserWarning: Since v1.0.0, scvi-tools no longer uses a random seed by default. Run `scvi.settings.seed = 0` to reproduce results from previous versions.\n",
      "  self.seed = seed\n",
      "/media/MPEdge16/MM137/sc/py/lib/python3.9/site-packages/scvi/_settings.py:70: UserWarning: Setting `dl_pin_memory_gpu_training` is deprecated in v1.0 and will be removed in v1.1. Please pass in `pin_memory` to the data loaders instead.\n",
      "  self.dl_pin_memory_gpu_training = (\n",
      "/media/MPEdge16/MM137/sc/py/lib/python3.9/site-packages/tqdm/auto.py:21: TqdmWarning: IProgress not found. Please update jupyter and ipywidgets. See https://ipywidgets.readthedocs.io/en/stable/user_install.html\n",
      "  from .autonotebook import tqdm as notebook_tqdm\n"
     ]
    }
   ],
   "source": [
    "import scvi\n",
    "import scanpy as sc\n",
    "import pandas as pd\n",
    "import os\n",
    "import numpy as np\n",
    "pd.set_option('display.max_columns', None)"
   ]
  },
  {
   "cell_type": "code",
   "execution_count": 2,
   "id": "fbc273d9-1d84-433a-8eff-cb7e87f9ea75",
   "metadata": {},
   "outputs": [],
   "source": [
    "os.chdir('/media/MPEdge16/MM137/sc/py/py_out/')"
   ]
  },
  {
   "cell_type": "code",
   "execution_count": 5,
   "id": "30733095-2ad7-4522-8902-95cb6221a8d3",
   "metadata": {},
   "outputs": [
    {
     "name": "stdout",
     "output_type": "stream",
     "text": [
      "starting on MM2\n"
     ]
    },
    {
     "name": "stderr",
     "output_type": "stream",
     "text": [
      "/media/MPEdge16/MM137/sc/py/lib/python3.9/site-packages/anndata/_core/anndata.py:1908: UserWarning: Variable names are not unique. To make them unique, call `.var_names_make_unique`.\n",
      "  utils.warn_names_duplicates(\"var\")\n",
      "/media/MPEdge16/MM137/sc/py/lib/python3.9/site-packages/anndata/_core/anndata.py:1908: UserWarning: Variable names are not unique. To make them unique, call `.var_names_make_unique`.\n",
      "  utils.warn_names_duplicates(\"var\")\n",
      "/media/MPEdge16/MM137/sc/py/lib/python3.9/site-packages/scanpy/preprocessing/_simple.py:139: ImplicitModificationWarning: Trying to modify attribute `.obs` of view, initializing view as actual.\n",
      "  adata.obs['n_genes'] = number\n",
      "GPU available: False, used: False\n",
      "TPU available: False, using: 0 TPU cores\n",
      "IPU available: False, using: 0 IPUs\n",
      "HPU available: False, using: 0 HPUs\n"
     ]
    },
    {
     "name": "stdout",
     "output_type": "stream",
     "text": [
      "Epoch 186/186: 100%|████████████████████████████████████████████████████████████████████████████████████████████████| 186/186 [24:12<00:00,  6.31s/it, v_num=1, train_loss_step=710, train_loss_epoch=771]"
     ]
    },
    {
     "name": "stderr",
     "output_type": "stream",
     "text": [
      "`Trainer.fit` stopped: `max_epochs=186` reached.\n"
     ]
    },
    {
     "name": "stdout",
     "output_type": "stream",
     "text": [
      "Epoch 186/186: 100%|████████████████████████████████████████████████████████████████████████████████████████████████| 186/186 [24:12<00:00,  7.81s/it, v_num=1, train_loss_step=710, train_loss_epoch=771]\n",
      "\u001b[34mINFO    \u001b[0m Creating doublets, preparing SOLO model.                                                                  \n"
     ]
    },
    {
     "name": "stderr",
     "output_type": "stream",
     "text": [
      "GPU available: False, used: False\n",
      "TPU available: False, using: 0 TPU cores\n",
      "IPU available: False, using: 0 IPUs\n",
      "HPU available: False, using: 0 HPUs\n"
     ]
    },
    {
     "name": "stdout",
     "output_type": "stream",
     "text": [
      "Epoch 352/400:  88%|████████████████████████████████████████████████████████████████████████████████▉           | 352/400 [13:00<01:46,  2.22s/it, v_num=1, train_loss_step=0.282, train_loss_epoch=0.239]\n",
      "Monitored metric validation_loss did not improve in the last 30 records. Best score: 0.233. Signaling Trainer to stop.\n",
      "MM2 solo scores for cells that passed the min_genes threshold and were tagged as singlet by souporcell recorded\n",
      "starting on MM3\n"
     ]
    },
    {
     "name": "stderr",
     "output_type": "stream",
     "text": [
      "/media/MPEdge16/MM137/sc/py/lib/python3.9/site-packages/anndata/_core/anndata.py:1908: UserWarning: Variable names are not unique. To make them unique, call `.var_names_make_unique`.\n",
      "  utils.warn_names_duplicates(\"var\")\n",
      "/media/MPEdge16/MM137/sc/py/lib/python3.9/site-packages/anndata/_core/anndata.py:1908: UserWarning: Variable names are not unique. To make them unique, call `.var_names_make_unique`.\n",
      "  utils.warn_names_duplicates(\"var\")\n",
      "/media/MPEdge16/MM137/sc/py/lib/python3.9/site-packages/scanpy/preprocessing/_simple.py:139: ImplicitModificationWarning: Trying to modify attribute `.obs` of view, initializing view as actual.\n",
      "  adata.obs['n_genes'] = number\n",
      "GPU available: False, used: False\n",
      "TPU available: False, using: 0 TPU cores\n",
      "IPU available: False, using: 0 IPUs\n",
      "HPU available: False, using: 0 HPUs\n"
     ]
    },
    {
     "name": "stdout",
     "output_type": "stream",
     "text": [
      "Epoch 161/161: 100%|████████████████████████████████████████████████████████████████████████████████████████████████| 161/161 [26:00<00:00,  9.74s/it, v_num=1, train_loss_step=731, train_loss_epoch=812]"
     ]
    },
    {
     "name": "stderr",
     "output_type": "stream",
     "text": [
      "`Trainer.fit` stopped: `max_epochs=161` reached.\n"
     ]
    },
    {
     "name": "stdout",
     "output_type": "stream",
     "text": [
      "Epoch 161/161: 100%|████████████████████████████████████████████████████████████████████████████████████████████████| 161/161 [26:00<00:00,  9.69s/it, v_num=1, train_loss_step=731, train_loss_epoch=812]\n",
      "\u001b[34mINFO    \u001b[0m Creating doublets, preparing SOLO model.                                                                  \n"
     ]
    },
    {
     "name": "stderr",
     "output_type": "stream",
     "text": [
      "GPU available: False, used: False\n",
      "TPU available: False, using: 0 TPU cores\n",
      "IPU available: False, using: 0 IPUs\n",
      "HPU available: False, using: 0 HPUs\n"
     ]
    },
    {
     "name": "stdout",
     "output_type": "stream",
     "text": [
      "Epoch 278/400:  70%|███████████████████████████████████████████████████████████████▉                            | 278/400 [13:17<05:49,  2.87s/it, v_num=1, train_loss_step=0.239, train_loss_epoch=0.236]\n",
      "Monitored metric validation_loss did not improve in the last 30 records. Best score: 0.227. Signaling Trainer to stop.\n",
      "MM3 solo scores for cells that passed the min_genes threshold and were tagged as singlet by souporcell recorded\n",
      "starting on MM4\n"
     ]
    },
    {
     "name": "stderr",
     "output_type": "stream",
     "text": [
      "/media/MPEdge16/MM137/sc/py/lib/python3.9/site-packages/anndata/_core/anndata.py:1908: UserWarning: Variable names are not unique. To make them unique, call `.var_names_make_unique`.\n",
      "  utils.warn_names_duplicates(\"var\")\n",
      "/media/MPEdge16/MM137/sc/py/lib/python3.9/site-packages/anndata/_core/anndata.py:1908: UserWarning: Variable names are not unique. To make them unique, call `.var_names_make_unique`.\n",
      "  utils.warn_names_duplicates(\"var\")\n",
      "/media/MPEdge16/MM137/sc/py/lib/python3.9/site-packages/scanpy/preprocessing/_simple.py:139: ImplicitModificationWarning: Trying to modify attribute `.obs` of view, initializing view as actual.\n",
      "  adata.obs['n_genes'] = number\n",
      "GPU available: False, used: False\n",
      "TPU available: False, using: 0 TPU cores\n",
      "IPU available: False, using: 0 IPUs\n",
      "HPU available: False, using: 0 HPUs\n"
     ]
    },
    {
     "name": "stdout",
     "output_type": "stream",
     "text": [
      "Epoch 180/180: 100%|████████████████████████████████████████████████████████████████████████████████████████████████| 180/180 [20:42<00:00,  6.65s/it, v_num=1, train_loss_step=820, train_loss_epoch=812]"
     ]
    },
    {
     "name": "stderr",
     "output_type": "stream",
     "text": [
      "`Trainer.fit` stopped: `max_epochs=180` reached.\n"
     ]
    },
    {
     "name": "stdout",
     "output_type": "stream",
     "text": [
      "Epoch 180/180: 100%|████████████████████████████████████████████████████████████████████████████████████████████████| 180/180 [20:42<00:00,  6.90s/it, v_num=1, train_loss_step=820, train_loss_epoch=812]\n",
      "\u001b[34mINFO    \u001b[0m Creating doublets, preparing SOLO model.                                                                  \n"
     ]
    },
    {
     "name": "stderr",
     "output_type": "stream",
     "text": [
      "GPU available: False, used: False\n",
      "TPU available: False, using: 0 TPU cores\n",
      "IPU available: False, using: 0 IPUs\n",
      "HPU available: False, using: 0 HPUs\n"
     ]
    },
    {
     "name": "stdout",
     "output_type": "stream",
     "text": [
      "Epoch 362/400:  90%|███████████████████████████████████████████████████████████████████████████████████▎        | 362/400 [14:52<01:33,  2.47s/it, v_num=1, train_loss_step=0.207, train_loss_epoch=0.219]\n",
      "Monitored metric validation_loss did not improve in the last 30 records. Best score: 0.205. Signaling Trainer to stop.\n",
      "MM4 solo scores for cells that passed the min_genes threshold and were tagged as singlet by souporcell recorded\n",
      "starting on MM5\n"
     ]
    },
    {
     "name": "stderr",
     "output_type": "stream",
     "text": [
      "/media/MPEdge16/MM137/sc/py/lib/python3.9/site-packages/anndata/_core/anndata.py:1908: UserWarning: Variable names are not unique. To make them unique, call `.var_names_make_unique`.\n",
      "  utils.warn_names_duplicates(\"var\")\n",
      "/media/MPEdge16/MM137/sc/py/lib/python3.9/site-packages/anndata/_core/anndata.py:1908: UserWarning: Variable names are not unique. To make them unique, call `.var_names_make_unique`.\n",
      "  utils.warn_names_duplicates(\"var\")\n",
      "/media/MPEdge16/MM137/sc/py/lib/python3.9/site-packages/scanpy/preprocessing/_simple.py:139: ImplicitModificationWarning: Trying to modify attribute `.obs` of view, initializing view as actual.\n",
      "  adata.obs['n_genes'] = number\n",
      "GPU available: False, used: False\n",
      "TPU available: False, using: 0 TPU cores\n",
      "IPU available: False, using: 0 IPUs\n",
      "HPU available: False, using: 0 HPUs\n"
     ]
    },
    {
     "name": "stdout",
     "output_type": "stream",
     "text": [
      "Epoch 168/168: 100%|████████████████████████████████████████████████████████████████████████████████████████████████| 168/168 [22:44<00:00,  6.75s/it, v_num=1, train_loss_step=896, train_loss_epoch=817]"
     ]
    },
    {
     "name": "stderr",
     "output_type": "stream",
     "text": [
      "`Trainer.fit` stopped: `max_epochs=168` reached.\n"
     ]
    },
    {
     "name": "stdout",
     "output_type": "stream",
     "text": [
      "Epoch 168/168: 100%|████████████████████████████████████████████████████████████████████████████████████████████████| 168/168 [22:44<00:00,  8.12s/it, v_num=1, train_loss_step=896, train_loss_epoch=817]\n",
      "\u001b[34mINFO    \u001b[0m Creating doublets, preparing SOLO model.                                                                  \n"
     ]
    },
    {
     "name": "stderr",
     "output_type": "stream",
     "text": [
      "GPU available: False, used: False\n",
      "TPU available: False, using: 0 TPU cores\n",
      "IPU available: False, using: 0 IPUs\n",
      "HPU available: False, using: 0 HPUs\n"
     ]
    },
    {
     "name": "stdout",
     "output_type": "stream",
     "text": [
      "Epoch 231/400:  58%|█████████████████████████████████████████████████████▏                                      | 231/400 [10:43<07:51,  2.79s/it, v_num=1, train_loss_step=0.199, train_loss_epoch=0.239]\n",
      "Monitored metric validation_loss did not improve in the last 30 records. Best score: 0.224. Signaling Trainer to stop.\n",
      "MM5 solo scores for cells that passed the min_genes threshold and were tagged as singlet by souporcell recorded\n",
      "starting on MM6\n"
     ]
    },
    {
     "name": "stderr",
     "output_type": "stream",
     "text": [
      "/media/MPEdge16/MM137/sc/py/lib/python3.9/site-packages/anndata/_core/anndata.py:1908: UserWarning: Variable names are not unique. To make them unique, call `.var_names_make_unique`.\n",
      "  utils.warn_names_duplicates(\"var\")\n",
      "/media/MPEdge16/MM137/sc/py/lib/python3.9/site-packages/anndata/_core/anndata.py:1908: UserWarning: Variable names are not unique. To make them unique, call `.var_names_make_unique`.\n",
      "  utils.warn_names_duplicates(\"var\")\n",
      "/media/MPEdge16/MM137/sc/py/lib/python3.9/site-packages/scanpy/preprocessing/_simple.py:139: ImplicitModificationWarning: Trying to modify attribute `.obs` of view, initializing view as actual.\n",
      "  adata.obs['n_genes'] = number\n",
      "GPU available: False, used: False\n",
      "TPU available: False, using: 0 TPU cores\n",
      "IPU available: False, using: 0 IPUs\n",
      "HPU available: False, using: 0 HPUs\n"
     ]
    },
    {
     "name": "stdout",
     "output_type": "stream",
     "text": [
      "Epoch 206/206: 100%|████████████████████████████████████████████████████████████████████████████████████████████████| 206/206 [26:59<00:00,  5.75s/it, v_num=1, train_loss_step=915, train_loss_epoch=888]"
     ]
    },
    {
     "name": "stderr",
     "output_type": "stream",
     "text": [
      "`Trainer.fit` stopped: `max_epochs=206` reached.\n"
     ]
    },
    {
     "name": "stdout",
     "output_type": "stream",
     "text": [
      "Epoch 206/206: 100%|████████████████████████████████████████████████████████████████████████████████████████████████| 206/206 [26:59<00:00,  7.86s/it, v_num=1, train_loss_step=915, train_loss_epoch=888]\n",
      "\u001b[34mINFO    \u001b[0m Creating doublets, preparing SOLO model.                                                                  \n"
     ]
    },
    {
     "name": "stderr",
     "output_type": "stream",
     "text": [
      "GPU available: False, used: False\n",
      "TPU available: False, using: 0 TPU cores\n",
      "IPU available: False, using: 0 IPUs\n",
      "HPU available: False, using: 0 HPUs\n"
     ]
    },
    {
     "name": "stdout",
     "output_type": "stream",
     "text": [
      "Epoch 190/400:  48%|███████████████████████████████████████████▋                                                | 190/400 [06:32<07:14,  2.07s/it, v_num=1, train_loss_step=0.204, train_loss_epoch=0.231]\n",
      "Monitored metric validation_loss did not improve in the last 30 records. Best score: 0.215. Signaling Trainer to stop.\n",
      "MM6 solo scores for cells that passed the min_genes threshold and were tagged as singlet by souporcell recorded\n",
      "starting on MM7\n"
     ]
    },
    {
     "name": "stderr",
     "output_type": "stream",
     "text": [
      "/media/MPEdge16/MM137/sc/py/lib/python3.9/site-packages/anndata/_core/anndata.py:1908: UserWarning: Variable names are not unique. To make them unique, call `.var_names_make_unique`.\n",
      "  utils.warn_names_duplicates(\"var\")\n",
      "/media/MPEdge16/MM137/sc/py/lib/python3.9/site-packages/anndata/_core/anndata.py:1908: UserWarning: Variable names are not unique. To make them unique, call `.var_names_make_unique`.\n",
      "  utils.warn_names_duplicates(\"var\")\n",
      "/media/MPEdge16/MM137/sc/py/lib/python3.9/site-packages/scanpy/preprocessing/_simple.py:139: ImplicitModificationWarning: Trying to modify attribute `.obs` of view, initializing view as actual.\n",
      "  adata.obs['n_genes'] = number\n",
      "GPU available: False, used: False\n",
      "TPU available: False, using: 0 TPU cores\n",
      "IPU available: False, using: 0 IPUs\n",
      "HPU available: False, using: 0 HPUs\n"
     ]
    },
    {
     "name": "stdout",
     "output_type": "stream",
     "text": [
      "Epoch 179/179: 100%|████████████████████████████████████████████████████████████████████████████████████████████████| 179/179 [20:34<00:00,  6.62s/it, v_num=1, train_loss_step=661, train_loss_epoch=763]"
     ]
    },
    {
     "name": "stderr",
     "output_type": "stream",
     "text": [
      "`Trainer.fit` stopped: `max_epochs=179` reached.\n"
     ]
    },
    {
     "name": "stdout",
     "output_type": "stream",
     "text": [
      "Epoch 179/179: 100%|████████████████████████████████████████████████████████████████████████████████████████████████| 179/179 [20:34<00:00,  6.90s/it, v_num=1, train_loss_step=661, train_loss_epoch=763]\n",
      "\u001b[34mINFO    \u001b[0m Creating doublets, preparing SOLO model.                                                                  \n"
     ]
    },
    {
     "name": "stderr",
     "output_type": "stream",
     "text": [
      "GPU available: False, used: False\n",
      "TPU available: False, using: 0 TPU cores\n",
      "IPU available: False, using: 0 IPUs\n",
      "HPU available: False, using: 0 HPUs\n"
     ]
    },
    {
     "name": "stdout",
     "output_type": "stream",
     "text": [
      "Epoch 211/400:  53%|█████████████████████████████████████████████████                                            | 211/400 [09:03<08:06,  2.57s/it, v_num=1, train_loss_step=0.41, train_loss_epoch=0.236]\n",
      "Monitored metric validation_loss did not improve in the last 30 records. Best score: 0.227. Signaling Trainer to stop.\n",
      "MM7 solo scores for cells that passed the min_genes threshold and were tagged as singlet by souporcell recorded\n",
      "starting on MM8\n"
     ]
    },
    {
     "name": "stderr",
     "output_type": "stream",
     "text": [
      "/media/MPEdge16/MM137/sc/py/lib/python3.9/site-packages/anndata/_core/anndata.py:1908: UserWarning: Variable names are not unique. To make them unique, call `.var_names_make_unique`.\n",
      "  utils.warn_names_duplicates(\"var\")\n",
      "/media/MPEdge16/MM137/sc/py/lib/python3.9/site-packages/anndata/_core/anndata.py:1908: UserWarning: Variable names are not unique. To make them unique, call `.var_names_make_unique`.\n",
      "  utils.warn_names_duplicates(\"var\")\n",
      "/media/MPEdge16/MM137/sc/py/lib/python3.9/site-packages/scanpy/preprocessing/_simple.py:139: ImplicitModificationWarning: Trying to modify attribute `.obs` of view, initializing view as actual.\n",
      "  adata.obs['n_genes'] = number\n",
      "GPU available: False, used: False\n",
      "TPU available: False, using: 0 TPU cores\n",
      "IPU available: False, using: 0 IPUs\n",
      "HPU available: False, using: 0 HPUs\n"
     ]
    },
    {
     "name": "stdout",
     "output_type": "stream",
     "text": [
      "Epoch 174/174: 100%|████████████████████████████████████████████████████████████████████████████████████████████████| 174/174 [25:37<00:00,  6.70s/it, v_num=1, train_loss_step=769, train_loss_epoch=786]"
     ]
    },
    {
     "name": "stderr",
     "output_type": "stream",
     "text": [
      "`Trainer.fit` stopped: `max_epochs=174` reached.\n"
     ]
    },
    {
     "name": "stdout",
     "output_type": "stream",
     "text": [
      "Epoch 174/174: 100%|████████████████████████████████████████████████████████████████████████████████████████████████| 174/174 [25:37<00:00,  8.84s/it, v_num=1, train_loss_step=769, train_loss_epoch=786]\n",
      "\u001b[34mINFO    \u001b[0m Creating doublets, preparing SOLO model.                                                                  \n"
     ]
    },
    {
     "name": "stderr",
     "output_type": "stream",
     "text": [
      "GPU available: False, used: False\n",
      "TPU available: False, using: 0 TPU cores\n",
      "IPU available: False, using: 0 IPUs\n",
      "HPU available: False, using: 0 HPUs\n"
     ]
    },
    {
     "name": "stdout",
     "output_type": "stream",
     "text": [
      "Epoch 286/400:  72%|██████████████████████████████████████████████████████████████████▍                          | 286/400 [12:40<05:03,  2.66s/it, v_num=1, train_loss_step=0.146, train_loss_epoch=0.23]\n",
      "Monitored metric validation_loss did not improve in the last 30 records. Best score: 0.227. Signaling Trainer to stop.\n",
      "MM8 solo scores for cells that passed the min_genes threshold and were tagged as singlet by souporcell recorded\n"
     ]
    }
   ],
   "source": [
    "for i in range(2, 9):\n",
    "    print('starting on MM' + str(i))\n",
    "    adata = sc.read_10x_h5('/media/MPEdge16/MM137/sc/10x_cloud_dl/10872-MM-' + str(i) + '/filtered_feature_bc_matrix.h5')\n",
    "    adata.var_names_make_unique()\n",
    "    soc = pd.read_csv('/media/MPEdge16/MM137/sc/souporcell_outs/10872-MM-' + str(i) + '_soc/clusters.tsv', sep='\\t')\n",
    "    singlet_bc = soc[soc['status'] == 'singlet']['barcode']\n",
    "    adata_subset = adata[adata.obs.index.isin(singlet_bc), :]\n",
    "    sc.pp.filter_cells(adata_subset, min_genes = 200)\n",
    "    sc.pp.filter_genes(adata_subset, min_cells = 10)\n",
    "    sc.pp.highly_variable_genes(adata_subset, n_top_genes = 5000, subset = True, flavor = 'seurat_v3')\n",
    "    scvi.model.SCVI.setup_anndata(adata_subset)\n",
    "    vae = scvi.model.SCVI(adata_subset)\n",
    "    vae.train()\n",
    "    solo = scvi.external.SOLO.from_scvi_model(vae)\n",
    "    solo.train()\n",
    "    df = solo.predict()\n",
    "    df['prediction'] = solo.predict(soft = False)\n",
    "    # df.index = df.index.map(lambda x: x[:-2])\n",
    "    df.to_csv('solo_scores_MM' + str(i) + '.csv')\n",
    "    print('MM' + str(i) + ' solo scores for cells that passed the min_genes threshold and were tagged as singlet by souporcell recorded')"
   ]
  }
 ],
 "metadata": {
  "kernelspec": {
   "display_name": "Python 3 (ipykernel)",
   "language": "python",
   "name": "python3"
  },
  "language_info": {
   "codemirror_mode": {
    "name": "ipython",
    "version": 3
   },
   "file_extension": ".py",
   "mimetype": "text/x-python",
   "name": "python",
   "nbconvert_exporter": "python",
   "pygments_lexer": "ipython3",
   "version": "3.9.18"
  }
 },
 "nbformat": 4,
 "nbformat_minor": 5
}
